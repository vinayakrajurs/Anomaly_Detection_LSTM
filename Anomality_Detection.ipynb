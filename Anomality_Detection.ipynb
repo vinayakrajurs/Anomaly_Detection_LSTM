{
 "cells": [
  {
   "cell_type": "markdown",
   "id": "8dfe934e",
   "metadata": {},
   "source": [
    "# LSTM AutoEncoder for anomaly Detection"
   ]
  },
  {
   "cell_type": "code",
   "execution_count": 7,
   "id": "83e19632",
   "metadata": {},
   "outputs": [],
   "source": [
    "import numpy as np\n",
    "from keras.models import Sequential\n",
    "from keras.layers import LSTM, Input, Dropout\n",
    "from keras.layers import Dense\n",
    "from keras.layers import RepeatVector\n",
    "from keras.layers import TimeDistributed\n",
    "import pandas as pd\n",
    "from matplotlib import pyplot as plt\n",
    "from sklearn.preprocessing import MinMaxScaler, StandardScaler\n",
    "from keras.models import Model\n",
    "import seaborn as sns"
   ]
  },
  {
   "cell_type": "code",
   "execution_count": 8,
   "id": "bd0db730",
   "metadata": {},
   "outputs": [
    {
     "name": "stderr",
     "output_type": "stream",
     "text": [
      "C:\\Users\\VINAYA~1\\AppData\\Local\\Temp/ipykernel_4604/2156328336.py:3: SettingWithCopyWarning: \n",
      "A value is trying to be set on a copy of a slice from a DataFrame.\n",
      "Try using .loc[row_indexer,col_indexer] = value instead\n",
      "\n",
      "See the caveats in the documentation: https://pandas.pydata.org/pandas-docs/stable/user_guide/indexing.html#returning-a-view-versus-a-copy\n",
      "  df['Date'] = pd.to_datetime(df['Date'])\n"
     ]
    }
   ],
   "source": [
    "dataframe = pd.read_csv('GE.csv')\n",
    "df = dataframe[['Date', 'Close']]\n",
    "df['Date'] = pd.to_datetime(df['Date'])"
   ]
  },
  {
   "cell_type": "code",
   "execution_count": 9,
   "id": "052f2ea7",
   "metadata": {},
   "outputs": [
    {
     "data": {
      "text/html": [
       "<div>\n",
       "<style scoped>\n",
       "    .dataframe tbody tr th:only-of-type {\n",
       "        vertical-align: middle;\n",
       "    }\n",
       "\n",
       "    .dataframe tbody tr th {\n",
       "        vertical-align: top;\n",
       "    }\n",
       "\n",
       "    .dataframe thead th {\n",
       "        text-align: right;\n",
       "    }\n",
       "</style>\n",
       "<table border=\"1\" class=\"dataframe\">\n",
       "  <thead>\n",
       "    <tr style=\"text-align: right;\">\n",
       "      <th></th>\n",
       "      <th>Date</th>\n",
       "      <th>Close</th>\n",
       "    </tr>\n",
       "  </thead>\n",
       "  <tbody>\n",
       "    <tr>\n",
       "      <th>0</th>\n",
       "      <td>2018-01-02</td>\n",
       "      <td>107.968536</td>\n",
       "    </tr>\n",
       "    <tr>\n",
       "      <th>1</th>\n",
       "      <td>2018-01-03</td>\n",
       "      <td>108.989372</td>\n",
       "    </tr>\n",
       "    <tr>\n",
       "      <th>2</th>\n",
       "      <td>2018-01-04</td>\n",
       "      <td>111.271240</td>\n",
       "    </tr>\n",
       "    <tr>\n",
       "      <th>3</th>\n",
       "      <td>2018-01-05</td>\n",
       "      <td>111.331291</td>\n",
       "    </tr>\n",
       "    <tr>\n",
       "      <th>4</th>\n",
       "      <td>2018-01-08</td>\n",
       "      <td>109.770012</td>\n",
       "    </tr>\n",
       "  </tbody>\n",
       "</table>\n",
       "</div>"
      ],
      "text/plain": [
       "        Date       Close\n",
       "0 2018-01-02  107.968536\n",
       "1 2018-01-03  108.989372\n",
       "2 2018-01-04  111.271240\n",
       "3 2018-01-05  111.331291\n",
       "4 2018-01-08  109.770012"
      ]
     },
     "execution_count": 9,
     "metadata": {},
     "output_type": "execute_result"
    }
   ],
   "source": [
    "df.head()"
   ]
  },
  {
   "cell_type": "code",
   "execution_count": 50,
   "id": "8cc7ef36",
   "metadata": {},
   "outputs": [
    {
     "data": {
      "text/plain": [
       "<AxesSubplot:xlabel='Date', ylabel='Close'>"
      ]
     },
     "execution_count": 50,
     "metadata": {},
     "output_type": "execute_result"
    },
    {
     "data": {
      "image/png": "[encoded data removed]",
      "text/plain": [
       "<Figure size 432x288 with 1 Axes>"
      ]
     },
     "metadata": {
      "needs_background": "light"
     },
     "output_type": "display_data"
    }
   ],
   "source": [
    "sns.lineplot(x=df['Date'], y=df['Close'])\n"
   ]
  },
  {
   "cell_type": "code",
   "execution_count": 13,
   "id": "5316d62b",
   "metadata": {},
   "outputs": [
    {
     "name": "stdout",
     "output_type": "stream",
     "text": [
      "Start date is:  2018-01-02 00:00:00\n",
      "End date is:  2021-12-31 00:00:00\n"
     ]
    }
   ],
   "source": [
    "print(\"Start date is: \", df['Date'].min())\n",
    "print(\"End date is: \", df['Date'].max())"
   ]
  },
  {
   "cell_type": "code",
   "execution_count": 19,
   "id": "eba64174",
   "metadata": {},
   "outputs": [],
   "source": [
    "#Change train data from Mid 2017 to 2019.... seems to be a jump early 2017\n",
    "train, test = df.loc[df['Date'] <= '2020-10-12'], df.loc[df['Date'] > '2020-10-12']"
   ]
  },
  {
   "cell_type": "code",
   "execution_count": 20,
   "id": "18e0f1ee",
   "metadata": {},
   "outputs": [
    {
     "name": "stderr",
     "output_type": "stream",
     "text": [
      "C:\\Users\\VINAYA~1\\AppData\\Local\\Temp/ipykernel_4604/1980345901.py:4: SettingWithCopyWarning: \n",
      "A value is trying to be set on a copy of a slice from a DataFrame.\n",
      "Try using .loc[row_indexer,col_indexer] = value instead\n",
      "\n",
      "See the caveats in the documentation: https://pandas.pydata.org/pandas-docs/stable/user_guide/indexing.html#returning-a-view-versus-a-copy\n",
      "  train['Close'] = scaler.transform(train[['Close']])\n",
      "C:\\Users\\VINAYA~1\\AppData\\Local\\Temp/ipykernel_4604/1980345901.py:5: SettingWithCopyWarning: \n",
      "A value is trying to be set on a copy of a slice from a DataFrame.\n",
      "Try using .loc[row_indexer,col_indexer] = value instead\n",
      "\n",
      "See the caveats in the documentation: https://pandas.pydata.org/pandas-docs/stable/user_guide/indexing.html#returning-a-view-versus-a-copy\n",
      "  test['Close'] = scaler.transform(test[['Close']])\n"
     ]
    }
   ],
   "source": [
    "scaler = StandardScaler()\n",
    "scaler = scaler.fit(train[['Close']])\n",
    "\n",
    "train['Close'] = scaler.transform(train[['Close']])\n",
    "test['Close'] = scaler.transform(test[['Close']])"
   ]
  },
  {
   "cell_type": "code",
   "execution_count": 21,
   "id": "6028435b",
   "metadata": {},
   "outputs": [],
   "source": [
    "seq_size = 30  # Number of time steps to look back \n",
    "#Larger sequences (look further back) may improve forecasting.\n",
    "def to_sequences(x, y, seq_size=1):\n",
    "    x_values = []\n",
    "    y_values = []\n",
    "\n",
    "    for i in range(len(x)-seq_size):\n",
    "        #print(i)\n",
    "        x_values.append(x.iloc[i:(i+seq_size)].values)\n",
    "        y_values.append(y.iloc[i+seq_size])\n",
    "        \n",
    "    return np.array(x_values), np.array(y_values)"
   ]
  },
  {
   "cell_type": "code",
   "execution_count": 22,
   "id": "0376131e",
   "metadata": {},
   "outputs": [],
   "source": [
    "trainX, trainY = to_sequences(train[['Close']], train['Close'], seq_size)\n",
    "testX, testY = to_sequences(test[['Close']], test['Close'], seq_size)"
   ]
  },
  {
   "cell_type": "markdown",
   "id": "067d9827",
   "metadata": {},
   "source": [
    "# Model Building"
   ]
  },
  {
   "cell_type": "code",
   "execution_count": 23,
   "id": "922acf28",
   "metadata": {},
   "outputs": [],
   "source": [
    "model = Sequential()\n",
    "model.add(LSTM(128, input_shape=(trainX.shape[1], trainX.shape[2])))\n",
    "model.add(Dropout(rate=0.2))\n",
    "\n",
    "model.add(RepeatVector(trainX.shape[1]))\n",
    "\n",
    "model.add(LSTM(128, return_sequences=True))\n",
    "model.add(Dropout(rate=0.2))\n",
    "model.add(TimeDistributed(Dense(trainX.shape[2])))"
   ]
  },
  {
   "cell_type": "code",
   "execution_count": 24,
   "id": "30a2caba",
   "metadata": {},
   "outputs": [],
   "source": [
    "model.compile(optimizer='adam', loss='mae')"
   ]
  },
  {
   "cell_type": "code",
   "execution_count": 25,
   "id": "78654d67",
   "metadata": {},
   "outputs": [
    {
     "name": "stdout",
     "output_type": "stream",
     "text": [
      "Model: \"sequential\"\n",
      "_________________________________________________________________\n",
      "Layer (type)                 Output Shape              Param #   \n",
      "=================================================================\n",
      "lstm (LSTM)                  (None, 128)               66560     \n",
      "_________________________________________________________________\n",
      "dropout (Dropout)            (None, 128)               0         \n",
      "_________________________________________________________________\n",
      "repeat_vector (RepeatVector) (None, 30, 128)           0         \n",
      "_________________________________________________________________\n",
      "lstm_1 (LSTM)                (None, 30, 128)           131584    \n",
      "_________________________________________________________________\n",
      "dropout_1 (Dropout)          (None, 30, 128)           0         \n",
      "_________________________________________________________________\n",
      "time_distributed (TimeDistri (None, 30, 1)             129       \n",
      "=================================================================\n",
      "Total params: 198,273\n",
      "Trainable params: 198,273\n",
      "Non-trainable params: 0\n",
      "_________________________________________________________________\n"
     ]
    }
   ],
   "source": [
    "model.summary()"
   ]
  },
  {
   "cell_type": "code",
   "execution_count": 26,
   "id": "11392c5c",
   "metadata": {},
   "outputs": [
    {
     "name": "stdout",
     "output_type": "stream",
     "text": [
      "Epoch 1/10\n",
      "19/19 [==============================] - 4s 68ms/step - loss: 0.2917 - val_loss: 0.2215\n",
      "Epoch 2/10\n",
      "19/19 [==============================] - 1s 31ms/step - loss: 0.1625 - val_loss: 0.1621\n",
      "Epoch 3/10\n",
      "19/19 [==============================] - 1s 32ms/step - loss: 0.1442 - val_loss: 0.1426\n",
      "Epoch 4/10\n",
      "19/19 [==============================] - 1s 32ms/step - loss: 0.1387 - val_loss: 0.1228\n",
      "Epoch 5/10\n",
      "19/19 [==============================] - 1s 32ms/step - loss: 0.1305 - val_loss: 0.2232\n",
      "Epoch 6/10\n",
      "19/19 [==============================] - 1s 32ms/step - loss: 0.1290 - val_loss: 0.1477\n",
      "Epoch 7/10\n",
      "19/19 [==============================] - 1s 32ms/step - loss: 0.1220 - val_loss: 0.1039\n",
      "Epoch 8/10\n",
      "19/19 [==============================] - 1s 32ms/step - loss: 0.1193 - val_loss: 0.0992\n",
      "Epoch 9/10\n",
      "19/19 [==============================] - 1s 31ms/step - loss: 0.1191 - val_loss: 0.1015\n",
      "Epoch 10/10\n",
      "19/19 [==============================] - 1s 32ms/step - loss: 0.1148 - val_loss: 0.0880\n"
     ]
    }
   ],
   "source": [
    "# fit model\n",
    "history = model.fit(trainX, trainY, epochs=10, batch_size=32, validation_split=0.1, verbose=1)"
   ]
  },
  {
   "cell_type": "code",
   "execution_count": 27,
   "id": "b9e182ae",
   "metadata": {},
   "outputs": [
    {
     "data": {
      "text/plain": [
       "<matplotlib.legend.Legend at 0x1b0eb33c3a0>"
      ]
     },
     "execution_count": 27,
     "metadata": {},
     "output_type": "execute_result"
    },
    {
     "data": {
      "image/png": "[encoded data removed]",
      "text/plain": [
       "<Figure size 432x288 with 1 Axes>"
      ]
     },
     "metadata": {
      "needs_background": "light"
     },
     "output_type": "display_data"
    }
   ],
   "source": [
    "plt.plot(history.history['loss'], label='Training loss')\n",
    "plt.plot(history.history['val_loss'], label='Validation loss')\n",
    "plt.legend()"
   ]
  },
  {
   "cell_type": "code",
   "execution_count": 28,
   "id": "7c7159aa",
   "metadata": {},
   "outputs": [
    {
     "data": {
      "text/plain": [
       "(array([ 95., 105., 121.,  86.,  60.,  46.,  24.,  21.,  26.,  13.,  14.,\n",
       "         11.,   6.,   5.,   4.,   4.,   3.,   4.,   6.,   3.,   0.,   2.,\n",
       "          1.,   1.,   1.,   0.,   0.,   3.,   1.,   4.]),\n",
       " array([0.06150632, 0.11003364, 0.15856096, 0.20708827, 0.25561559,\n",
       "        0.3041429 , 0.35267022, 0.40119753, 0.44972485, 0.49825217,\n",
       "        0.54677948, 0.5953068 , 0.64383411, 0.69236143, 0.74088874,\n",
       "        0.78941606, 0.83794338, 0.88647069, 0.93499801, 0.98352532,\n",
       "        1.03205264, 1.08057995, 1.12910727, 1.17763459, 1.2261619 ,\n",
       "        1.27468922, 1.32321653, 1.37174385, 1.42027116, 1.46879848,\n",
       "        1.5173258 ]),\n",
       " <BarContainer object of 30 artists>)"
      ]
     },
     "execution_count": 28,
     "metadata": {},
     "output_type": "execute_result"
    },
    {
     "data": {
      "image/png": "[encoded data removed]",
      "text/plain": [
       "<Figure size 432x288 with 1 Axes>"
      ]
     },
     "metadata": {
      "needs_background": "light"
     },
     "output_type": "display_data"
    }
   ],
   "source": [
    "trainPredict = model.predict(trainX)\n",
    "trainMAE = np.mean(np.abs(trainPredict - trainX), axis=1)\n",
    "plt.hist(trainMAE, bins=30)"
   ]
  },
  {
   "cell_type": "code",
   "execution_count": 39,
   "id": "f90defa3",
   "metadata": {},
   "outputs": [],
   "source": [
    "max_trainMAE = 0.5  #or Define 90% value of max as threshold."
   ]
  },
  {
   "cell_type": "code",
   "execution_count": 40,
   "id": "9b745d28",
   "metadata": {},
   "outputs": [
    {
     "data": {
      "text/plain": [
       "(array([19., 56., 35., 40., 20., 21., 10.,  8.,  8., 11.,  4.,  5.,  3.,\n",
       "         5.,  3.,  1.,  3.,  4.,  2.,  0.,  2.,  1.,  4.,  1.,  3.,  3.,\n",
       "         3.,  0.,  1.,  2.]),\n",
       " array([0.06704591, 0.08979191, 0.11253791, 0.13528391, 0.1580299 ,\n",
       "        0.1807759 , 0.2035219 , 0.2262679 , 0.24901389, 0.27175989,\n",
       "        0.29450589, 0.31725189, 0.33999788, 0.36274388, 0.38548988,\n",
       "        0.40823588, 0.43098187, 0.45372787, 0.47647387, 0.49921986,\n",
       "        0.52196586, 0.54471186, 0.56745786, 0.59020385, 0.61294985,\n",
       "        0.63569585, 0.65844185, 0.68118784, 0.70393384, 0.72667984,\n",
       "        0.74942584]),\n",
       " <BarContainer object of 30 artists>)"
      ]
     },
     "execution_count": 40,
     "metadata": {},
     "output_type": "execute_result"
    },
    {
     "data": {
      "image/png": "[encoded data removed]",
      "text/plain": [
       "<Figure size 432x288 with 1 Axes>"
      ]
     },
     "metadata": {
      "needs_background": "light"
     },
     "output_type": "display_data"
    }
   ],
   "source": [
    "testPredict = model.predict(testX)\n",
    "testMAE = np.mean(np.abs(testPredict - testX), axis=1)\n",
    "plt.hist(testMAE, bins=30)"
   ]
  },
  {
   "cell_type": "markdown",
   "id": "33969dec",
   "metadata": {},
   "source": [
    "# Anamoly Part"
   ]
  },
  {
   "cell_type": "code",
   "execution_count": 41,
   "id": "cb74caaf",
   "metadata": {},
   "outputs": [],
   "source": [
    "anomaly_df = pd.DataFrame(test[seq_size:])\n",
    "anomaly_df['testMAE'] = testMAE\n",
    "anomaly_df['max_trainMAE'] = max_trainMAE\n",
    "anomaly_df['anomaly'] = anomaly_df['testMAE'] > anomaly_df['max_trainMAE']\n",
    "anomaly_df['Close'] = test[seq_size:]['Close']"
   ]
  },
  {
   "cell_type": "code",
   "execution_count": 42,
   "id": "5039ab7a",
   "metadata": {},
   "outputs": [
    {
     "data": {
      "text/plain": [
       "<AxesSubplot:xlabel='Date', ylabel='testMAE'>"
      ]
     },
     "execution_count": 42,
     "metadata": {},
     "output_type": "execute_result"
    },
    {
     "data": {
      "image/png": "[encoded data removed]",
      "text/plain": [
       "<Figure size 432x288 with 1 Axes>"
      ]
     },
     "metadata": {
      "needs_background": "light"
     },
     "output_type": "display_data"
    }
   ],
   "source": [
    "#Plot testMAE vs max_trainMAE\n",
    "sns.lineplot(x=anomaly_df['Date'], y=anomaly_df['testMAE'])\n",
    "sns.lineplot(x=anomaly_df['Date'], y=anomaly_df['max_trainMAE'])"
   ]
  },
  {
   "cell_type": "code",
   "execution_count": 43,
   "id": "b47acc17",
   "metadata": {},
   "outputs": [],
   "source": [
    "anomalies = anomaly_df.loc[anomaly_df['anomaly'] == True]"
   ]
  },
  {
   "cell_type": "code",
   "execution_count": 45,
   "id": "03969150",
   "metadata": {},
   "outputs": [
    {
     "data": {
      "text/plain": [
       "<AxesSubplot:xlabel='Date'>"
      ]
     },
     "execution_count": 45,
     "metadata": {},
     "output_type": "execute_result"
    },
    {
     "data": {
      "image/png": "[encoded data removed]",
      "text/plain": [
       "<Figure size 432x288 with 1 Axes>"
      ]
     },
     "metadata": {
      "needs_background": "light"
     },
     "output_type": "display_data"
    }
   ],
   "source": [
    "#Plot anomalies for test data\n",
    "sns.lineplot(x=anomaly_df['Date'], y=scaler.inverse_transform(anomaly_df[['Close']]).flatten())\n",
    "sns.scatterplot(x=anomalies['Date'], y=scaler.inverse_transform(anomalies[['Close']]).flatten(), color='r')"
   ]
  },
  {
   "cell_type": "code",
   "execution_count": null,
   "id": "18f41b86",
   "metadata": {},
   "outputs": [],
   "source": [
    "#old plot\n",
    "sns.lineplot(x=anomaly_df['Date'], y=scaler.inverse_transform(anomaly_df['Close']))\n",
    "sns.scatterplot(x=anomalies['Date'], y=scaler.inverse_transform(anomalies['Close']), color='r')"
   ]
  }
 ],
 "metadata": {
  "kernelspec": {
   "display_name": "Python 3 (ipykernel)",
   "language": "python",
   "name": "python3"
  },
  "language_info": {
   "codemirror_mode": {
    "name": "ipython",
    "version": 3
   },
   "file_extension": ".py",
   "mimetype": "text/x-python",
   "name": "python",
   "nbconvert_exporter": "python",
   "pygments_lexer": "ipython3",
   "version": "3.8.12"
  }
 },
 "nbformat": 4,
 "nbformat_minor": 5
}
